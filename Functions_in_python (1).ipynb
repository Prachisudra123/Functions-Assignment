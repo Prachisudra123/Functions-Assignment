{
  "nbformat": 4,
  "nbformat_minor": 0,
  "metadata": {
    "colab": {
      "provenance": []
    },
    "kernelspec": {
      "name": "python3",
      "display_name": "Python 3"
    },
    "language_info": {
      "name": "python"
    }
  },
  "cells": [
    {
      "cell_type": "markdown",
      "source": [
        "**Functions **"
      ],
      "metadata": {
        "id": "5Zs6FXflOxbv"
      }
    },
    {
      "cell_type": "markdown",
      "source": [
        "1.  What is the difference between a function and a method in Python?\n",
        "\n",
        "-> Functions:- A function is a structured, reusable code block utilized\n",
        "for carrying out a specific task.\n",
        "- Functions facilitate the creation of modular code, simplifying maintenance and reusability."
      ],
      "metadata": {
        "id": "67u5jHTlO6uv"
      }
    },
    {
      "cell_type": "code",
      "execution_count": 2,
      "metadata": {
        "id": "Djg7bCzeHMP9"
      },
      "outputs": [],
      "source": [
        "# function example\n",
        "def add(x, y):\n",
        " return x + y\n",
        " result = add(5, 3)\n",
        " (result)"
      ]
    },
    {
      "cell_type": "markdown",
      "source": [
        "-> Method: A method in Python is a function that is defined inside a class and is called on an object of that class.\n",
        "- It can access and modify the object's data using self.\n",
        "\n"
      ],
      "metadata": {
        "id": "yRatOV1SQOkC"
      }
    },
    {
      "cell_type": "code",
      "source": [
        "# Method example\n",
        "class Car:\n",
        "    def start_engine(self):  # This is a method\n",
        "        print(\"Engine started\")\n",
        "\n",
        "my_car = Car()\n",
        "my_car.start_engine()  # Calling the method on the object\n"
      ],
      "metadata": {
        "colab": {
          "base_uri": "https://localhost:8080/"
        },
        "id": "U7jBxAe8RzJh",
        "outputId": "87d0a970-e0db-4856-dc09-a96277a510f3"
      },
      "execution_count": 3,
      "outputs": [
        {
          "output_type": "stream",
          "name": "stdout",
          "text": [
            "Engine started\n"
          ]
        }
      ]
    },
    {
      "cell_type": "markdown",
      "source": [
        "2. Explain the concept of function arguments and parameters in Python."
      ],
      "metadata": {
        "id": "n0PMkPXuSdyn"
      }
    },
    {
      "cell_type": "markdown",
      "source": [
        "-> Function arguments: Function arguments are the actual values you pass to a function when you call it. They provide input for the function to use in its operation."
      ],
      "metadata": {
        "id": "rbMQ-_OmSjd9"
      }
    },
    {
      "cell_type": "code",
      "source": [
        "# Function arguments example:\n",
        "def greet(name):\n",
        "    print(\"Hello, \" + name + \"!\")\n",
        "\n",
        "greet(\"Alice\")  # \"Alice\" is the argument passed to the function"
      ],
      "metadata": {
        "colab": {
          "base_uri": "https://localhost:8080/"
        },
        "id": "_zeCm_B8TYGf",
        "outputId": "b3192b9d-f1e4-4163-97b2-53922398c617"
      },
      "execution_count": 4,
      "outputs": [
        {
          "output_type": "stream",
          "name": "stdout",
          "text": [
            "Hello, Alice!\n"
          ]
        }
      ]
    },
    {
      "cell_type": "markdown",
      "source": [
        "-> Function parameters: Function parameters are the variables listed inside the parentheses in the function definition.\n",
        "- They act as placeholders for the values (called arguments) that you pass into the function when calling it."
      ],
      "metadata": {
        "id": "cWnS4AssTmKy"
      }
    },
    {
      "cell_type": "code",
      "source": [
        "# Function parameters exmaple:\n",
        "# Function definition with parameters\n",
        "def greet(name):\n",
        "    print(\"Hello, \" + name + \"!\")\n",
        "\n",
        "# Function call with an argument\n",
        "greet(\"Alice\")\n"
      ],
      "metadata": {
        "colab": {
          "base_uri": "https://localhost:8080/"
        },
        "id": "9VIR_Ud0UVXI",
        "outputId": "4653d732-2592-4c5c-a09f-4a680703e822"
      },
      "execution_count": 5,
      "outputs": [
        {
          "output_type": "stream",
          "name": "stdout",
          "text": [
            "Hello, Alice!\n"
          ]
        }
      ]
    },
    {
      "cell_type": "markdown",
      "source": [
        "3. What are the different ways to define and call a function in Python?\n",
        "-> The different ways to define and call a function in Python are:\n",
        "\n",
        "- 1. Functions with Positional Arguments:\n",
        "- 2. Functions with Keyword Arguments.\n",
        "- 3. Functions with Default Parameters.\n",
        "- 4. Function with Variable-Length Arguments"
      ],
      "metadata": {
        "id": "k6RMXD5XUkL4"
      }
    },
    {
      "cell_type": "code",
      "source": [
        "# example of Functions with Positional Arguments:\n",
        "def add(a, b):\n",
        "    return a + b\n",
        "\n",
        "# Call with positional arguments\n",
        "print(add(3, 5))  # Output: 8\n"
      ],
      "metadata": {
        "colab": {
          "base_uri": "https://localhost:8080/"
        },
        "id": "FnqnGW83W1nI",
        "outputId": "5cf5d569-6e3e-4b9a-ba1c-b8c9773bb9a6"
      },
      "execution_count": 6,
      "outputs": [
        {
          "output_type": "stream",
          "name": "stdout",
          "text": [
            "8\n"
          ]
        }
      ]
    },
    {
      "cell_type": "code",
      "source": [
        "# example of Functions with Keyword Arguments:\n",
        "def greet(name, message):\n",
        "    print(f\"{message}, {name}!\")\n",
        "\n",
        "# Call with keyword arguments\n",
        "greet(message=\"Hello\", name=\"Alice\")  # Output: Hello, Alice!"
      ],
      "metadata": {
        "colab": {
          "base_uri": "https://localhost:8080/"
        },
        "id": "Wi4stMfvW-A6",
        "outputId": "5f221dd1-1e94-4f85-b665-5e1194a5c79b"
      },
      "execution_count": 7,
      "outputs": [
        {
          "output_type": "stream",
          "name": "stdout",
          "text": [
            "Hello, Alice!\n"
          ]
        }
      ]
    },
    {
      "cell_type": "code",
      "source": [
        "# example of Functions with Default Parameters:\n",
        "def greet(name=\"Guest\"):\n",
        "    print(\"Hello,\", name)\n",
        "\n",
        "greet()           # Output: Hello, Guest\n",
        "greet(\"Alice\")    # Output: Hello, Alice\n"
      ],
      "metadata": {
        "colab": {
          "base_uri": "https://localhost:8080/"
        },
        "id": "xXMqVc5vXFe0",
        "outputId": "b95c866c-e17e-4963-de9a-571eb9189278"
      },
      "execution_count": 8,
      "outputs": [
        {
          "output_type": "stream",
          "name": "stdout",
          "text": [
            "Hello, Guest\n",
            "Hello, Alice\n"
          ]
        }
      ]
    },
    {
      "cell_type": "code",
      "source": [
        "# example of Function with Variable-Length Arguments:\n",
        "def total(*numbers):\n",
        "    return sum(numbers)\n",
        "\n",
        "print(total(1, 2, 3))  # Output: 6\n"
      ],
      "metadata": {
        "colab": {
          "base_uri": "https://localhost:8080/"
        },
        "id": "4RQvDfWEXSEG",
        "outputId": "7750af70-0350-4afb-d0b2-98a2aadf2121"
      },
      "execution_count": 9,
      "outputs": [
        {
          "output_type": "stream",
          "name": "stdout",
          "text": [
            "6\n"
          ]
        }
      ]
    },
    {
      "cell_type": "markdown",
      "source": [
        "4. What is the purpose of the `return` statement in a Python function?\n",
        "\n",
        "-> Return Statement:- Determines the value that the function will return. If not included, the function defaults to returning None.\n"
      ],
      "metadata": {
        "id": "0_Zu8iJtXfsG"
      }
    },
    {
      "cell_type": "code",
      "source": [
        "# example of Return Statement:\n",
        "def add(a, b):\n",
        "    return a + b\n",
        "\n",
        "result = add(3, 5)\n",
        "print(result)  # Output: 8"
      ],
      "metadata": {
        "colab": {
          "base_uri": "https://localhost:8080/"
        },
        "id": "5fAL16sGYZkO",
        "outputId": "4c8c613e-1574-4a90-e136-2e5f3dc1043b"
      },
      "execution_count": 10,
      "outputs": [
        {
          "output_type": "stream",
          "name": "stdout",
          "text": [
            "8\n"
          ]
        }
      ]
    },
    {
      "cell_type": "markdown",
      "source": [
        "5. What are iterators in Python, and how do they differ from iterables?\n",
        "\n",
        "-> Iterators: An iterator is an object that allows traversal through a countable number of values.\n",
        "- It is used to iterate over objects like lists, tuples, and sets.\n",
        "\n",
        "-> differ from iterables: An iterable is any Python object capable of returning its elements one at a time."
      ],
      "metadata": {
        "id": "3jvKLelW56Og"
      }
    },
    {
      "cell_type": "code",
      "source": [
        "# example of iterators:\n",
        "iter_list = iter(['apple', 'banana', 'cherry'])\n",
        "print(next(iter_list))\n",
        "print(next(iter_list))\n",
        "print(next(iter_list))\n"
      ],
      "metadata": {
        "colab": {
          "base_uri": "https://localhost:8080/"
        },
        "id": "q2DvcMi6ZVQ2",
        "outputId": "1fc52081-e4fd-4369-e9a7-86243be08139"
      },
      "execution_count": 11,
      "outputs": [
        {
          "output_type": "stream",
          "name": "stdout",
          "text": [
            "apple\n",
            "banana\n",
            "cherry\n"
          ]
        }
      ]
    },
    {
      "cell_type": "markdown",
      "source": [
        "6. Explain the concept of generators in Python and how they are defined.\n",
        "\n",
        "-> Generators:Generators are a simple way to create iterators using functions and the yield keyword unstead of returning values."
      ],
      "metadata": {
        "id": "34VfDJI-aa7Y"
      }
    },
    {
      "cell_type": "code",
      "source": [
        "# example of generator:\n",
        "def countdown(n):\n",
        "    while n > 0:\n",
        "        yield n\n",
        "        n -= 1\n",
        "# creating a generator\n",
        "gen = countdown(5)\n",
        "# Using the generator\n",
        "for num in gen:\n",
        "    print(num)"
      ],
      "metadata": {
        "colab": {
          "base_uri": "https://localhost:8080/"
        },
        "id": "XovvjjHMbBsn",
        "outputId": "22ea04b4-1659-409d-81bf-83b61154c60c"
      },
      "execution_count": 12,
      "outputs": [
        {
          "output_type": "stream",
          "name": "stdout",
          "text": [
            "5\n",
            "4\n",
            "3\n",
            "2\n",
            "1\n"
          ]
        }
      ]
    },
    {
      "cell_type": "markdown",
      "source": [
        "7. What are the advantages of using generators over regular functions?\n",
        "\n",
        "-> Advanatges of generator:\n",
        "- Efficient memory usage.\n",
        "- Simple syntax.\n",
        "- Faster for large data\n",
        "- Clean code\n"
      ],
      "metadata": {
        "id": "iCHknGEEbbnC"
      }
    },
    {
      "cell_type": "code",
      "source": [
        "# Example of generator vs Regular function:\n",
        "# Regular function (returns full list)\n",
        "def get_numbers():\n",
        "    return [i for i in range(1, 6)]\n",
        "\n",
        "print(get_numbers())  # Output: [1, 2, 3, 4, 5]\n"
      ],
      "metadata": {
        "colab": {
          "base_uri": "https://localhost:8080/"
        },
        "id": "Z8uyJxvHbWXm",
        "outputId": "ebbdb141-6995-403f-e3d8-92655699b86f"
      },
      "execution_count": 13,
      "outputs": [
        {
          "output_type": "stream",
          "name": "stdout",
          "text": [
            "[1, 2, 3, 4, 5]\n"
          ]
        }
      ]
    },
    {
      "cell_type": "code",
      "source": [
        "# example of genrator functions:\n",
        "def number_generator():\n",
        "    for i in range(1, 6):\n",
        "        yield i\n",
        "\n",
        "gen = number_generator()\n",
        "for num in gen:\n",
        "    print(num)  # Output: 1 2 3 4 5 (one at a time)\n"
      ],
      "metadata": {
        "colab": {
          "base_uri": "https://localhost:8080/"
        },
        "id": "f8d_s_zfct0p",
        "outputId": "58bb1e70-f319-4b28-d59d-e4515f34a3ee"
      },
      "execution_count": 14,
      "outputs": [
        {
          "output_type": "stream",
          "name": "stdout",
          "text": [
            "1\n",
            "2\n",
            "3\n",
            "4\n",
            "5\n"
          ]
        }
      ]
    },
    {
      "cell_type": "markdown",
      "source": [
        "8. What is a lambda function in Python, and when is it typically used?\n",
        "-> Lambda Function: Lambda functions are small, anonymous functions defined using the lambda keyword.\n",
        "- When they are used: They are used for creating small, throwaway functions without the need to formally define a function using def"
      ],
      "metadata": {
        "id": "SAZU10iTc8Or"
      }
    },
    {
      "cell_type": "code",
      "source": [
        "# example of lambda function:\n",
        "square = lambda x: x * x\n",
        "print(square(5))"
      ],
      "metadata": {
        "colab": {
          "base_uri": "https://localhost:8080/"
        },
        "id": "47R0MINudlBG",
        "outputId": "0509eed9-0e83-477a-9e71-01c1e8f5fd4a"
      },
      "execution_count": 15,
      "outputs": [
        {
          "output_type": "stream",
          "name": "stdout",
          "text": [
            "25\n"
          ]
        }
      ]
    },
    {
      "cell_type": "markdown",
      "source": [
        "9. Explain the purpose and usage of the `map()` function in Python.\n",
        "\n",
        "-> The map function applies a given function to all items in an input iterable (like a list) and returns an iterator with the results.\n",
        "- usage: Used to transform each item in an iterable by applying the specified function.Usage"
      ],
      "metadata": {
        "id": "1F-yT9_ieQXc"
      }
    },
    {
      "cell_type": "code",
      "source": [
        "# example of map function:\n",
        "numbers = [1, 2, 3, 4]\n",
        "squared = map(lambda x: x * x, numbers)\n",
        "print(list(squared))"
      ],
      "metadata": {
        "colab": {
          "base_uri": "https://localhost:8080/"
        },
        "id": "QECSBeqKetWg",
        "outputId": "b277cc6f-410f-40ad-cd2f-e78ac2572645"
      },
      "execution_count": 16,
      "outputs": [
        {
          "output_type": "stream",
          "name": "stdout",
          "text": [
            "[1, 4, 9, 16]\n"
          ]
        }
      ]
    },
    {
      "cell_type": "markdown",
      "source": [
        "10. What is the difference between `map()`, `reduce()`, and `filter()` functions in Python?\n",
        "\n",
        "-> 1. `map()`: map() – Transforms each element\n",
        "- Purpose: Applies a function to each item in the iterable.\n",
        "- Returns: A new iterable with modified values.\n",
        "\n",
        "-> 2. `reduce()`: reduce() – Reduces all items to a single value\n",
        "- Purpose: Applies a function to pairs of items, reducing the iterable to one result.\n",
        "- Returns: A single value.\n",
        "\n",
        "\n",
        "-> 3.`filter()`: Filters elements based on a condition\n",
        "- Purpose: Applies a function that returns True/False to each item and keeps only True values.\n",
        "- Returns: A new iterable with filtered elements.\n",
        "\n"
      ],
      "metadata": {
        "id": "hPkFGfOJe5Mf"
      }
    },
    {
      "cell_type": "code",
      "source": [
        "# example of map() function:\n",
        "numbers = [1, 2, 3, 4]\n",
        "squared = map(lambda x: x * x, numbers)\n",
        "print(list(squared))"
      ],
      "metadata": {
        "colab": {
          "base_uri": "https://localhost:8080/"
        },
        "id": "pKL_2g8_pjQv",
        "outputId": "3e9c4a82-bfad-4b02-954e-c6c91fff4410"
      },
      "execution_count": 17,
      "outputs": [
        {
          "output_type": "stream",
          "name": "stdout",
          "text": [
            "[1, 4, 9, 16]\n"
          ]
        }
      ]
    },
    {
      "cell_type": "code",
      "source": [
        "# example of reduce() function:\n",
        "from functools import reduce\n",
        "numbers = [1, 2, 3, 4]\n",
        "product = reduce(lambda x, y: x * y, numbers)\n",
        "print(product)"
      ],
      "metadata": {
        "colab": {
          "base_uri": "https://localhost:8080/"
        },
        "id": "pGoxHcvYpqsa",
        "outputId": "e107c284-975b-49ca-fc65-ec3cc3492e75"
      },
      "execution_count": 18,
      "outputs": [
        {
          "output_type": "stream",
          "name": "stdout",
          "text": [
            "24\n"
          ]
        }
      ]
    },
    {
      "cell_type": "code",
      "source": [
        "# example of filter() function:\n",
        "numbers = [1, 2, 3, 4]\n",
        "even_numbers = filter(lambda x: x % 2 == 0, numbers)\n",
        "print(list(even_numbers))"
      ],
      "metadata": {
        "colab": {
          "base_uri": "https://localhost:8080/"
        },
        "id": "1_yqu0Xpp0py",
        "outputId": "1bf70a3c-2a0b-45ec-c7ce-60ebb6e0eca2"
      },
      "execution_count": 19,
      "outputs": [
        {
          "output_type": "stream",
          "name": "stdout",
          "text": [
            "[2, 4]\n"
          ]
        }
      ]
    },
    {
      "cell_type": "markdown",
      "source": [
        "11. Using pen & Paper write the internal mechanism for sum operation using  reduce function on this given\n",
        "list:[47,11,42,13];"
      ],
      "metadata": {
        "id": "lf2z29CGqnIu"
      }
    },
    {
      "cell_type": "markdown",
      "source": [
        "![answer 11.jpg](data:image/jpeg;base64,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)"
      ],
      "metadata": {
        "id": "nbxGBIQh9ZgP"
      }
    },
    {
      "cell_type": "markdown",
      "source": [
        "**Practical Questions**"
      ],
      "metadata": {
        "id": "CVvb5Cyat6Il"
      }
    },
    {
      "cell_type": "markdown",
      "source": [
        "1. Write a Python function that takes a list of numbers as input and returns the sum of all even numbers in\n",
        "the list."
      ],
      "metadata": {
        "id": "KVu6hmEzuAkH"
      }
    },
    {
      "cell_type": "code",
      "source": [
        "# Using filter() + lambda() + sum()\n",
        "def sum_even_numbers(numbers):\n",
        "    even_numbers = filter(lambda x: x % 2 == 0, numbers)\n",
        "    return sum(even_numbers)\n",
        "# Example Usage:\n",
        "my_list = [10, 3, 4, 7, 8, 11]\n",
        "result = sum_even_numbers(my_list)\n",
        "print(\"Sum of even numbers:\", result)\n"
      ],
      "metadata": {
        "colab": {
          "base_uri": "https://localhost:8080/"
        },
        "id": "X9RZI205vEdc",
        "outputId": "e304936d-b995-40b5-d684-ab457db6200d"
      },
      "execution_count": 20,
      "outputs": [
        {
          "output_type": "stream",
          "name": "stdout",
          "text": [
            "Sum of even numbers: 22\n"
          ]
        }
      ]
    },
    {
      "cell_type": "markdown",
      "source": [
        "2. Create a Python function that accepts a string and returns the reverse of that string."
      ],
      "metadata": {
        "id": "U4AbfJR7vQW1"
      }
    },
    {
      "cell_type": "code",
      "source": [
        "# USing String Slicing:\n",
        "def reverse_string(s):\n",
        "    return s[::-1]\n",
        "# Example Usage:\n",
        "text = \"Prachi\"\n",
        "reversed_text = reverse_string(text)\n",
        "print(\"Reversed string:\", reversed_text)\n"
      ],
      "metadata": {
        "colab": {
          "base_uri": "https://localhost:8080/"
        },
        "id": "8yXUVViIvU-4",
        "outputId": "4635e775-f409-45aa-c69f-b06a1d7908c1"
      },
      "execution_count": 21,
      "outputs": [
        {
          "output_type": "stream",
          "name": "stdout",
          "text": [
            "Reversed string: ihcarP\n"
          ]
        }
      ]
    },
    {
      "cell_type": "markdown",
      "source": [
        "3. Implement a Python function that takes a list of integers and returns a new list containing the squares of\n",
        "each number."
      ],
      "metadata": {
        "id": "DTTqBlc3vh8D"
      }
    },
    {
      "cell_type": "code",
      "source": [
        "# Using List Comprehension:\n",
        "def square_numbers(numbers):\n",
        "    return [x ** 2 for x in numbers]\n",
        "# Example Usage:\n",
        "my_list = [1, 2, 3, 4, 5, 6, 7, 8]\n",
        "squared_list = square_numbers(my_list)\n",
        "print(\"Squared list:\", squared_list)\n"
      ],
      "metadata": {
        "colab": {
          "base_uri": "https://localhost:8080/"
        },
        "id": "2k5pm47xvo94",
        "outputId": "c55b1b5f-a5b8-4f03-b4fa-59fb5698f4e2"
      },
      "execution_count": 22,
      "outputs": [
        {
          "output_type": "stream",
          "name": "stdout",
          "text": [
            "Squared list: [1, 4, 9, 16, 25, 36, 49, 64]\n"
          ]
        }
      ]
    },
    {
      "cell_type": "markdown",
      "source": [
        "4. Write a Python function that checks if a given number is prime or not from 1 to 200.\n",
        "\n",
        "\n"
      ],
      "metadata": {
        "id": "nlfCl-kYv6vu"
      }
    },
    {
      "cell_type": "code",
      "source": [
        "def is_prime(n):\n",
        "    if n <= 1 or n > 200:\n",
        "        return False  # Not prime if less than 2 or more than 200\n",
        "    for i in range(2, int(n**0.5) + 1):\n",
        "        if n % i == 0:\n",
        "            return False\n",
        "    return True\n",
        "# Example Usage:\n",
        "num = 137\n",
        "if is_prime(num):\n",
        "    print(f\"{num} is a prime number.\")\n",
        "else:\n",
        "    print(f\"{num} is not a prime number.\")\n"
      ],
      "metadata": {
        "colab": {
          "base_uri": "https://localhost:8080/"
        },
        "id": "i4-FA5ilv_Ts",
        "outputId": "c06ca88b-38ed-4029-eff0-73205abbb9cc"
      },
      "execution_count": 23,
      "outputs": [
        {
          "output_type": "stream",
          "name": "stdout",
          "text": [
            "137 is a prime number.\n"
          ]
        }
      ]
    },
    {
      "cell_type": "markdown",
      "source": [
        "5. Create an iterator class in Python that generates the Fibonacci sequence up to a specified number of\n",
        "terms."
      ],
      "metadata": {
        "id": "czloywdJwVw4"
      }
    },
    {
      "cell_type": "code",
      "source": [
        "#  Simple Fibonacci Iterator Class:\n",
        "class Fibonacci:\n",
        "    def __init__(self, max_terms):\n",
        "        self.max_terms = max_terms  # Total number of terms\n",
        "        self.count = 0              # How many terms generated so far\n",
        "        self.a = 0                  # First number in sequence\n",
        "        self.b = 1                  # Second number\n",
        "\n",
        "    def __iter__(self):\n",
        "        return self  # This object is the iterator\n",
        "\n",
        "    def __next__(self):\n",
        "        if self.count >= self.max_terms:\n",
        "            raise StopIteration  # Stop when done\n",
        "        if self.count == 0:\n",
        "            self.count += 1\n",
        "            return self.a\n",
        "        elif self.count == 1:\n",
        "            self.count += 1\n",
        "            return self.b\n",
        "        else:\n",
        "            self.a, self.b = self.b, self.a + self.b  # Next Fibonacci number\n",
        "            self.count += 1\n",
        "            return self.b\n",
        "  # Example Usage:\n",
        "  # Create an iterator for 10 Fibonacci numbers\n",
        "fib = Fibonacci(10)\n",
        "\n",
        "for number in fib:\n",
        "    print(number, end=\" \")\n",
        "\n"
      ],
      "metadata": {
        "colab": {
          "base_uri": "https://localhost:8080/"
        },
        "id": "AGPwL2m-xiIC",
        "outputId": "cdae6a01-f0f7-49e9-b4d4-1988c8d07a33"
      },
      "execution_count": 24,
      "outputs": [
        {
          "output_type": "stream",
          "name": "stdout",
          "text": [
            "0 1 1 2 3 5 8 13 21 34 "
          ]
        }
      ]
    },
    {
      "cell_type": "markdown",
      "source": [
        "6. Write a generator function in Python that yields the powers of 2 up to a given exponent."
      ],
      "metadata": {
        "id": "-DTJxfisyM_D"
      }
    },
    {
      "cell_type": "code",
      "source": [
        "def powers_of_two(max_exponent):\n",
        "    for i in range(max_exponent + 1):\n",
        "        yield 2 ** i\n",
        "# example usage:\n",
        "for power in powers_of_two(8):\n",
        "    print(power)"
      ],
      "metadata": {
        "colab": {
          "base_uri": "https://localhost:8080/"
        },
        "id": "j895b8qIyTll",
        "outputId": "e24c7c05-cafb-4455-f6d2-7ba8dd1a1c0e"
      },
      "execution_count": 25,
      "outputs": [
        {
          "output_type": "stream",
          "name": "stdout",
          "text": [
            "1\n",
            "2\n",
            "4\n",
            "8\n",
            "16\n",
            "32\n",
            "64\n",
            "128\n",
            "256\n"
          ]
        }
      ]
    },
    {
      "cell_type": "markdown",
      "source": [
        "7. Implement a generator function that reads a file line by line and yields each line as a string."
      ],
      "metadata": {
        "id": "fPqVvzadyyA7"
      }
    },
    {
      "cell_type": "code",
      "source": [
        "def read_file_line_by_line(file_path):\n",
        "    with open(file_path, 'r') as file:\n",
        "        for line in file:\n",
        "            yield line.strip()  # strip() removes the trailing newline character\n",
        "# Example Usage\n",
        "file_path = 'example.txt'  # Replace with your file path\n",
        "\n",
        "for line in read_file_line_by_line(file_path):\n",
        "    print(line)\n"
      ],
      "metadata": {
        "colab": {
          "base_uri": "https://localhost:8080/"
        },
        "id": "bBUSECNuzITQ",
        "outputId": "3a35f34d-4e92-4b10-feb0-762d62029690"
      },
      "execution_count": 49,
      "outputs": [
        {
          "output_type": "stream",
          "name": "stdout",
          "text": [
            "This is line 1.\n",
            "This is line 2.\n",
            "This is line 3.\n"
          ]
        }
      ]
    },
    {
      "cell_type": "markdown",
      "source": [
        "8. Use a lambda function in Python to sort a list of tuples based on the second element of each tuple."
      ],
      "metadata": {
        "id": "XxbXXU6C6N2t"
      }
    },
    {
      "cell_type": "code",
      "source": [
        "# List of tuples\n",
        "data = [(1, 3), (4, 1), (2, 2), (5, 0)]\n",
        "\n",
        "# Sort based on the second element of each tuple\n",
        "sorted_data = sorted(data, key=lambda x: x[1])\n",
        "\n",
        "# Print the result\n",
        "print(sorted_data)\n"
      ],
      "metadata": {
        "colab": {
          "base_uri": "https://localhost:8080/"
        },
        "id": "2Zh9Mn6b6iCY",
        "outputId": "e8e51c3d-6554-451d-8147-51061242b825"
      },
      "execution_count": 27,
      "outputs": [
        {
          "output_type": "stream",
          "name": "stdout",
          "text": [
            "[(5, 0), (4, 1), (2, 2), (1, 3)]\n"
          ]
        }
      ]
    },
    {
      "cell_type": "markdown",
      "source": [
        "9. Write a Python program that uses `map()` to convert a list of temperatures from Celsius to Fahrenheit."
      ],
      "metadata": {
        "id": "Ord_-NZ86kkZ"
      }
    },
    {
      "cell_type": "code",
      "source": [
        "# List of temperatures in Celsius\n",
        "celsius_temps = [0, 37, 100]\n",
        "\n",
        "# Convert to Fahrenheit using map and lambda\n",
        "fahrenheit_temps = list(map(lambda c: (c * 9/5) + 32, celsius_temps))\n",
        "\n",
        "# Print the result\n",
        "print(\"Temperatures in Fahrenheit:\", fahrenheit_temps)\n"
      ],
      "metadata": {
        "id": "uIeoAq0b6wNx",
        "colab": {
          "base_uri": "https://localhost:8080/"
        },
        "outputId": "af2ec61d-5c50-4668-fb30-d94a4c3f8807"
      },
      "execution_count": 29,
      "outputs": [
        {
          "output_type": "stream",
          "name": "stdout",
          "text": [
            "Temperatures in Fahrenheit: [32.0, 98.6, 212.0]\n"
          ]
        }
      ]
    },
    {
      "cell_type": "markdown",
      "source": [
        "10. Create a Python program that uses `filter()` to remove all the vowels from a given string."
      ],
      "metadata": {
        "id": "P1bdPI40yavv"
      }
    },
    {
      "cell_type": "code",
      "source": [
        "def remove_vowels(input_str):\n",
        "    vowels = 'aeiouAEIOU'\n",
        "    # Use filter to keep only non-vowel characters\n",
        "    result = ''.join(filter(lambda char: char not in vowels, input_str))\n",
        "    return result\n",
        "\n",
        "# Example usage\n",
        "text = \"Hello Prachi, how are you?\"\n",
        "no_vowels = remove_vowels(text)\n",
        "print(\"Original String:\", text)\n",
        "print(\"Without Vowels:\", no_vowels)\n"
      ],
      "metadata": {
        "colab": {
          "base_uri": "https://localhost:8080/"
        },
        "id": "jysJxwR5yeVu",
        "outputId": "9666325f-17e0-4801-f8b4-34d6b45503e8"
      },
      "execution_count": 31,
      "outputs": [
        {
          "output_type": "stream",
          "name": "stdout",
          "text": [
            "Original String: Hello Prachi, how are you?\n",
            "Without Vowels: Hll Prch, hw r y?\n"
          ]
        }
      ]
    },
    {
      "cell_type": "markdown",
      "source": [],
      "metadata": {
        "id": "-_74OORGyvXT"
      }
    },
    {
      "cell_type": "code",
      "source": [
        "# Input data from the image\n",
        "orders = [\n",
        "    [34587, \"Learning Python, Mark Lutz\", 4, 40.95],\n",
        "    [98762, \"Programming Python, Mark Lutz\", 5, 56.80],\n",
        "    [77226, \"Head First Python, Paul Barry\", 3, 32.95],\n",
        "    [88112, \"Einführung in Python3, Bernd Klein\", 3, 24.99]\n",
        "]\n",
        "\n",
        "# Use map and lambda to generate the list of 2-tuples\n",
        "order_totals = list(map(lambda order: (\n",
        "    order[0],\n",
        "    round(order[2] * order[3] + (10 if order[2] * order[3] < 100 else 0), 2)\n",
        "), orders))\n",
        "\n",
        "# Output the result\n",
        "print(order_totals)\n"
      ],
      "metadata": {
        "colab": {
          "base_uri": "https://localhost:8080/"
        },
        "id": "A0ahlZ7g2Rbs",
        "outputId": "48947e76-720e-48cb-94ff-097ee4a751d1"
      },
      "execution_count": 32,
      "outputs": [
        {
          "output_type": "stream",
          "name": "stdout",
          "text": [
            "[(34587, 163.8), (98762, 284.0), (77226, 108.85), (88112, 84.97)]\n"
          ]
        }
      ]
    }
  ]
}